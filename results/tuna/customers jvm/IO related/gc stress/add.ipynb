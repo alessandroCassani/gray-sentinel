{
 "cells": [
  {
   "cell_type": "code",
   "execution_count": 3,
   "id": "dcc689d7",
   "metadata": {},
   "outputs": [
    {
     "ename": "ValueError",
     "evalue": "cannot insert openeuler-swap, already exists",
     "output_type": "error",
     "traceback": [
      "\u001b[31m---------------------------------------------------------------------------\u001b[39m",
      "\u001b[31mValueError\u001b[39m                                Traceback (most recent call last)",
      "\u001b[32m/tmp/ipykernel_32329/715519107.py\u001b[39m in \u001b[36m?\u001b[39m\u001b[34m()\u001b[39m\n\u001b[32m      8\u001b[39m \n\u001b[32m      9\u001b[39m     \u001b[38;5;66;03m# Replace the original file\u001b[39;00m\n\u001b[32m     10\u001b[39m     df.to_csv(\u001b[33m'read_bytes.csv'\u001b[39m, index=\u001b[38;5;28;01mFalse\u001b[39;00m)\n\u001b[32m     11\u001b[39m \n\u001b[32m---> \u001b[39m\u001b[32m12\u001b[39m add_swap_column(\u001b[33m\"read_bytes.csv\"\u001b[39m)\n",
      "\u001b[32m/tmp/ipykernel_32329/715519107.py\u001b[39m in \u001b[36m?\u001b[39m\u001b[34m(input_file)\u001b[39m\n\u001b[32m      3\u001b[39m \u001b[38;5;28;01mdef\u001b[39;00m add_swap_column(input_file):\n\u001b[32m      4\u001b[39m     \u001b[38;5;66;03m# Read the CSV file\u001b[39;00m\n\u001b[32m      5\u001b[39m     df = pd.read_csv(input_file)\n\u001b[32m      6\u001b[39m \n\u001b[32m----> \u001b[39m\u001b[32m7\u001b[39m     df.insert(\u001b[32m3\u001b[39m, \u001b[33m'openeuler-swap'\u001b[39m, \u001b[32m0\u001b[39m)\n\u001b[32m      8\u001b[39m \n\u001b[32m      9\u001b[39m     \u001b[38;5;66;03m# Replace the original file\u001b[39;00m\n\u001b[32m     10\u001b[39m     df.to_csv(\u001b[33m'read_bytes.csv'\u001b[39m, index=\u001b[38;5;28;01mFalse\u001b[39;00m)\n",
      "\u001b[32m~/PGFDS/.venv/lib/python3.12/site-packages/pandas/core/frame.py\u001b[39m in \u001b[36m?\u001b[39m\u001b[34m(self, loc, column, value, allow_duplicates)\u001b[39m\n\u001b[32m   5154\u001b[39m                 \u001b[33m\"'self.flags.allows_duplicate_labels' is False.\"\u001b[39m\n\u001b[32m   5155\u001b[39m             )\n\u001b[32m   5156\u001b[39m         \u001b[38;5;28;01mif\u001b[39;00m \u001b[38;5;28;01mnot\u001b[39;00m allow_duplicates \u001b[38;5;28;01mand\u001b[39;00m column \u001b[38;5;28;01min\u001b[39;00m self.columns:\n\u001b[32m   5157\u001b[39m             \u001b[38;5;66;03m# Should this be a different kind of error??\u001b[39;00m\n\u001b[32m-> \u001b[39m\u001b[32m5158\u001b[39m             \u001b[38;5;28;01mraise\u001b[39;00m ValueError(f\"cannot insert {column}, already exists\")\n\u001b[32m   5159\u001b[39m         \u001b[38;5;28;01mif\u001b[39;00m \u001b[38;5;28;01mnot\u001b[39;00m is_integer(loc):\n\u001b[32m   5160\u001b[39m             \u001b[38;5;28;01mraise\u001b[39;00m TypeError(\u001b[33m\"loc must be int\"\u001b[39m)\n\u001b[32m   5161\u001b[39m         \u001b[38;5;66;03m# convert non stdlib ints to satisfy typing checks\u001b[39;00m\n",
      "\u001b[31mValueError\u001b[39m: cannot insert openeuler-swap, already exists"
     ]
    }
   ],
   "source": [
    "import pandas as pd\n",
    "\n",
    "def add_swap_column(input_file):\n",
    "    # Read the CSV file\n",
    "    df = pd.read_csv(input_file)\n",
    "    \n",
    "    df.insert(3, 'openeuler-swap', 0)\n",
    "    \n",
    "    # Replace the original file\n",
    "    df.to_csv('read_bytes.csv', index=False)\n",
    "\n",
    "add_swap_column(\"read_bytes.csv\")"
   ]
  }
 ],
 "metadata": {
  "kernelspec": {
   "display_name": ".venv",
   "language": "python",
   "name": "python3"
  },
  "language_info": {
   "codemirror_mode": {
    "name": "ipython",
    "version": 3
   },
   "file_extension": ".py",
   "mimetype": "text/x-python",
   "name": "python",
   "nbconvert_exporter": "python",
   "pygments_lexer": "ipython3",
   "version": "3.12.3"
  }
 },
 "nbformat": 4,
 "nbformat_minor": 5
}
