{
 "cells": [
  {
   "cell_type": "code",
   "execution_count": 3,
   "id": "dcc689d7",
   "metadata": {},
   "outputs": [],
   "source": [
    "import pandas as pd\n",
    "\n",
    "def add_swap_column(input_file):\n",
    "    # Read the CSV file\n",
    "    df = pd.read_csv(input_file)\n",
    "    \n",
    "    df.insert(3, 'openeuler-swap', 0)\n",
    "    \n",
    "    # Replace the original file\n",
    "    df.to_csv('read_bytes.csv', index=False)\n",
    "\n",
    "add_swap_column(\"read_bytes.csv\")"
   ]
  }
 ],
 "metadata": {
  "kernelspec": {
   "display_name": ".venv",
   "language": "python",
   "name": "python3"
  },
  "language_info": {
   "codemirror_mode": {
    "name": "ipython",
    "version": 3
   },
   "file_extension": ".py",
   "mimetype": "text/x-python",
   "name": "python",
   "nbconvert_exporter": "python",
   "pygments_lexer": "ipython3",
   "version": "3.12.3"
  }
 },
 "nbformat": 4,
 "nbformat_minor": 5
}
