{
 "cells": [
  {
   "cell_type": "markdown",
   "id": "2f9d4f2a",
   "metadata": {},
   "source": [
    "## block count latency device"
   ]
  },
  {
   "cell_type": "code",
   "execution_count": null,
   "id": "f31bf06d",
   "metadata": {},
   "outputs": [
    {
     "ename": "NameError",
     "evalue": "name 'df_iowadf_block_count_latency_deviceit' is not defined",
     "output_type": "error",
     "traceback": [
      "\u001b[31m---------------------------------------------------------------------------\u001b[39m",
      "\u001b[31mNameError\u001b[39m                                 Traceback (most recent call last)",
      "\u001b[36mCell\u001b[39m\u001b[36m \u001b[39m\u001b[32mIn[1]\u001b[39m\u001b[32m, line 25\u001b[39m\n\u001b[32m     21\u001b[39m df_baseline_read_bytes[\u001b[33m\"\u001b[39m\u001b[33msource\u001b[39m\u001b[33m\"\u001b[39m] = \u001b[33m\"\u001b[39m\u001b[33mBASELINE\u001b[39m\u001b[33m\"\u001b[39m\n\u001b[32m     22\u001b[39m df_baseline_write_bytes[\u001b[33m\"\u001b[39m\u001b[33msource\u001b[39m\u001b[33m\"\u001b[39m] = \u001b[33m\"\u001b[39m\u001b[33mBASELINE\u001b[39m\u001b[33m\"\u001b[39m\n\u001b[32m---> \u001b[39m\u001b[32m25\u001b[39m df_block_count_latency_device[\u001b[33m\"\u001b[39m\u001b[33mTime\u001b[39m\u001b[33m\"\u001b[39m] = pd.to_datetime(\u001b[43mdf_iowadf_block_count_latency_deviceit\u001b[49m[\u001b[33m\"\u001b[39m\u001b[33mTime\u001b[39m\u001b[33m\"\u001b[39m])\n\u001b[32m     26\u001b[39m df_read_bytes[\u001b[33m\"\u001b[39m\u001b[33mTime\u001b[39m\u001b[33m\"\u001b[39m] = pd.to_datetime(df_read_bytes[\u001b[33m\"\u001b[39m\u001b[33mTime\u001b[39m\u001b[33m\"\u001b[39m])\n\u001b[32m     27\u001b[39m df_write_bytes[\u001b[33m\"\u001b[39m\u001b[33mTime\u001b[39m\u001b[33m\"\u001b[39m] = pd.to_datetime(df_write_bytes[\u001b[33m\"\u001b[39m\u001b[33mTime\u001b[39m\u001b[33m\"\u001b[39m])\n",
      "\u001b[31mNameError\u001b[39m: name 'df_iowadf_block_count_latency_deviceit' is not defined"
     ]
    }
   ],
   "source": [
    "import pandas as pd\n",
    "import matplotlib.pyplot as plt\n",
    "import seaborn as sns\n",
    "import numpy as np\n",
    "\n",
    "df_block_count_latency_device = pd.read_csv(\"block_count_latency_device.csv\")\n",
    "df_read_bytes = pd.read_csv(\"read_bytes.csv\")\n",
    "df_write_bytes = pd.read_csv(\"write_bytes.csv\")\n",
    "\n",
    "\n",
    "df_baseline_block_count_latency_device= pd.read_csv(\"../../baseline/IO related/block_count_latency_device.csv\")\n",
    "df_baseline_read_bytes= pd.read_csv(\"../../baseline/IO related/read_bytes.csv\")\n",
    "df_baseline_write_bytes = pd.read_csv(\"../../baseline/IO related/write_bytes.csv\")\n",
    "\n",
    "\n",
    "df_block_count_latency_device[\"source\"] = \"NETLOSS\"\n",
    "df_read_bytes[\"source\"] = \"NETLOSS\"\n",
    "df_write_bytes[\"source\"] = \"NETLOSS\"\n",
    "\n",
    "df_baseline_block_count_latency_device[\"source\"] = \"BASELINE\"\n",
    "df_baseline_read_bytes[\"source\"] = \"BASELINE\"\n",
    "df_baseline_write_bytes[\"source\"] = \"BASELINE\"\n",
    "\n",
    "\n",
    "df_block_count_latency_device[\"Time\"] = pd.to_datetime(df_block_count_latency_device[\"Time\"])\n",
    "df_read_bytes[\"Time\"] = pd.to_datetime(df_read_bytes[\"Time\"])\n",
    "df_write_bytes[\"Time\"] = pd.to_datetime(df_write_bytes[\"Time\"])\n",
    "\n",
    "df_block_count_latency_device[\"Time\"] = pd.to_datetime(df_baseline_block_count_latency_device[\"Time\"])\n",
    "df_baseline_read_bytes[\"Time\"] = pd.to_datetime(df_baseline_read_bytes[\"Time\"])\n",
    "df_baseline_write_bytes[\"Time\"] = pd.to_datetime(df_baseline_write_bytes[\"Time\"])\n",
    "\n",
    "\n",
    "delay = 1800\n",
    "duration = 3000"
   ]
  }
 ],
 "metadata": {
  "kernelspec": {
   "display_name": ".venv",
   "language": "python",
   "name": "python3"
  },
  "language_info": {
   "codemirror_mode": {
    "name": "ipython",
    "version": 3
   },
   "file_extension": ".py",
   "mimetype": "text/x-python",
   "name": "python",
   "nbconvert_exporter": "python",
   "pygments_lexer": "ipython3",
   "version": "3.12.3"
  }
 },
 "nbformat": 4,
 "nbformat_minor": 5
}
