{
 "cells": [
  {
   "cell_type": "code",
   "execution_count": null,
   "id": "d717bf01",
   "metadata": {},
   "outputs": [],
   "source": [
    "import numpy as np \n",
    "import pandas as pd \n",
    "import matplotlib.pyplot as plt \n",
    "from statsmodels.graphics import tsaplots\n",
    "import statsmodels.api as sm\n",
    "from pylab import rcParams"
   ]
  },
  {
   "cell_type": "code",
   "execution_count": null,
   "id": "152bd918",
   "metadata": {},
   "outputs": [],
   "source": [
    "df = pd.read_csv('mem_cache.csv', parse_dates=['Time'], index_col='Time')\n",
    "\n",
    "df.columns = ['mem_cache']\n",
    "ax = df.plot(figsize=(10,8))\n",
    "ax.set_xlabel('Time')\n",
    "ax.set_ylabel('memory utilization')\n",
    "ax.set_title('memory utilization during stressload')\n",
    "plt.show()\n"
   ]
  },
  {
   "cell_type": "code",
   "execution_count": null,
   "id": "da2a5cbd",
   "metadata": {},
   "outputs": [],
   "source": [
    "df_mean = df.rolling(window=4).mean()  #window every 1 minute, so 4 data points\n",
    "ax = df_mean.plot(figsize=(10,8))\n",
    "ax.set_xlabel('Time')\n",
    "ax.set_ylabel('cache utilization')\n",
    "ax.set_title('mean cache values during stressload')\n",
    "\n",
    "plt.show()"
   ]
  },
  {
   "cell_type": "code",
   "execution_count": null,
   "id": "dc001cf2",
   "metadata": {},
   "outputs": [],
   "source": [
    "ax1 = df.boxplot(figsize=(10,8))\n",
    "ax1.set_ylabel('percentage')\n",
    "ax1.set_title('boxplot of cache utilization')\n"
   ]
  },
  {
   "cell_type": "code",
   "execution_count": null,
   "id": "989601f8",
   "metadata": {},
   "outputs": [],
   "source": [
    "fig = tsaplots.plot_acf(df['mem_cache'], lags=40)\n",
    "plt.show()"
   ]
  },
  {
   "cell_type": "code",
   "execution_count": null,
   "id": "7c123408",
   "metadata": {},
   "outputs": [],
   "source": [
    "fig = tsaplots.plot_pacf(df['mem_cache'], lags=40)  #to see the lags\n",
    "plt.show()"
   ]
  },
  {
   "cell_type": "code",
   "execution_count": null,
   "id": "0dd7f9d4",
   "metadata": {},
   "outputs": [],
   "source": [
    "df.index = pd.to_datetime(df.index)\n",
    "df = df.asfreq('15S') \n",
    "rcParams['figure.figsize'] = 11, 15  \n",
    "decomposition = sm.tsa.seasonal_decompose(df['mem_cache'], model='additive', period=10)  #check period and adjust\n",
    "fig = decomposition.plot()\n",
    "plt.show()"
   ]
  }
 ],
 "metadata": {
  "kernelspec": {
   "display_name": ".venv",
   "language": "python",
   "name": "python3"
  },
  "language_info": {
   "codemirror_mode": {
    "name": "ipython",
    "version": 3
   },
   "file_extension": ".py",
   "mimetype": "text/x-python",
   "name": "python",
   "nbconvert_exporter": "python",
   "pygments_lexer": "ipython3",
   "version": "3.12.3"
  }
 },
 "nbformat": 4,
 "nbformat_minor": 5
}
