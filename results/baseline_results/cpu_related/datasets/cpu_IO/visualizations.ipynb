{
 "cells": [
  {
   "cell_type": "code",
   "execution_count": null,
   "id": "5dce409c",
   "metadata": {},
   "outputs": [],
   "source": [
    "import numpy as np \n",
    "import pandas as pd \n",
    "import matplotlib.pyplot as plt \n",
    "from statsmodels.graphics import tsaplots\n",
    "import statsmodels.api as sm\n",
    "from pylab import rcParams\n",
    "from scipy.stats.stats import pearsonr\n",
    "from scipy.stats.stats import spearmanr\n",
    "import seaborn as sns\n",
    "import statsmodels.api as sm"
   ]
  },
  {
   "cell_type": "code",
   "execution_count": null,
   "id": "e3dd65e2",
   "metadata": {},
   "outputs": [],
   "source": [
    "df = pd.read_csv('cpu_IO.csv', parse_dates=['Time'], index_col='Time')\n",
    "\n",
    "df = df.dropna()\n",
    "ax = df.plot(figsize=(20,10))\n",
    "ax.set_ylabel('cpu io wait msec')\n",
    "plt.show()\n"
   ]
  },
  {
   "cell_type": "code",
   "execution_count": null,
   "id": "672323a5",
   "metadata": {},
   "outputs": [],
   "source": [
    "df.plot(subplots=True,\n",
    "        linewidth=1,\n",
    "        layout=(5,2),\n",
    "        figsize=(16,12),\n",
    "        sharex=False,\n",
    "        sharey=False)\n",
    "plt.show()"
   ]
  },
  {
   "cell_type": "code",
   "execution_count": null,
   "id": "75128bf0",
   "metadata": {},
   "outputs": [],
   "source": [
    "def running_average(x, order):\n",
    "    current = x[:order].sum()\n",
    "    running = []\n",
    "\n",
    "    for i in range(order, x.shape[0]):\n",
    "        current += x[i]\n",
    "        current -= x[i-order]\n",
    "        running.append(current/order)\n",
    "    \n",
    "    return np.array(running)\n",
    "\n",
    "for feature in df.columns:\n",
    "    trend = running_average(df[feature], 12)\n",
    "    fig, ax = plt.subplots(1, 1)\n",
    "    ax.plot(df.index, df[feature])\n",
    "    ax.set_xlabel('Date')\n",
    "    ax.set_ylabel(feature)\n",
    "    ax.plot(df.index[12:], trend, label='Trend')\n",
    "    ax.legend()"
   ]
  },
  {
   "cell_type": "code",
   "execution_count": null,
   "id": "627e4ba0",
   "metadata": {},
   "outputs": [],
   "source": [
    "ax = df.boxplot(fontsize=6, vert=False)\n",
    "ax.set_xlabel('cpu io wait msec')\n",
    "plt.show()"
   ]
  },
  {
   "cell_type": "code",
   "execution_count": null,
   "id": "1ea346ea",
   "metadata": {},
   "outputs": [],
   "source": [
    "# Pearson correlation matrix\n",
    "corr_p = df[df.columns].corr(method='pearson')\n",
    "print('\\nPearson correlation matrix')\n",
    "print(corr_p)\n",
    "\n",
    "# Spearman correlation matrix'\n",
    "corr_s = df[df.columns].corr(method='spearman')\n",
    "print('\\nSpearman correlation matrix')\n",
    "print(corr_s)"
   ]
  },
  {
   "cell_type": "code",
   "execution_count": null,
   "id": "f06d82c0",
   "metadata": {},
   "outputs": [],
   "source": [
    "corr_mat = df.corr(method='pearson')\n",
    "sns.heatmap(corr_mat)"
   ]
  },
  {
   "cell_type": "code",
   "execution_count": null,
   "id": "037a5ea2",
   "metadata": {},
   "outputs": [],
   "source": [
    "corr_mat_spearman = df.corr(method='spearman')\n",
    "sns.heatmap(corr_mat_spearman)"
   ]
  },
  {
   "cell_type": "code",
   "execution_count": null,
   "id": "2473cae2",
   "metadata": {},
   "outputs": [],
   "source": [
    "dict_decompositions = {}\n",
    "df.names = df.columns\n",
    "print(df.names)\n"
   ]
  },
  {
   "cell_type": "code",
   "execution_count": null,
   "id": "ebc34cda",
   "metadata": {},
   "outputs": [],
   "source": [
    "for feature in df.names:\n",
    "    feature_decomposition = sm.tsa.seasonal_decompose(df[feature], period=43)\n",
    "    dict_decompositions[feature] = feature_decomposition\n",
    "\n",
    "dict_trend = {}\n",
    "dict_seasonal = {}\n",
    "dict_resid = {}\n",
    "\n",
    "for feature in df.names:\n",
    "    dict_trend[feature] = dict_decompositions[feature].trend  #TODo Check the period and where to insert!\n",
    "    dict_seasonal[feature] = dict_decompositions[feature].seasonal\n",
    "    dict_resid[feature] = dict_decompositions[feature].resid\n",
    "\n",
    "trend_df = pd.DataFrame.from_dict(dict_trend)\n",
    "seasonal_df = pd.DataFrame.from_dict(dict_seasonal)\n",
    "resid_df = pd.DataFrame.from_dict(dict_resid)"
   ]
  },
  {
   "cell_type": "markdown",
   "id": "bd2ea14d",
   "metadata": {},
   "source": [
    "Seasonal component plot"
   ]
  },
  {
   "cell_type": "code",
   "execution_count": null,
   "id": "afe876e7",
   "metadata": {},
   "outputs": [],
   "source": [
    "seasonal_df.plot(subplots=True, layout=(5, 2),\n",
    "          figsize=(17, 10),\n",
    "          sharex=True,\n",
    "          sharey=False)\n",
    "plt.title('seasonal component of cpu io wait dataset')"
   ]
  },
  {
   "cell_type": "markdown",
   "id": "29a553de",
   "metadata": {},
   "source": [
    "trend component plot"
   ]
  },
  {
   "cell_type": "code",
   "execution_count": null,
   "id": "6be88ba8",
   "metadata": {},
   "outputs": [],
   "source": [
    "trend_df.plot(\n",
    "    subplots=True,\n",
    "    layout=(5,2),\n",
    "    figsize=(17,10),\n",
    "    sharex=True,\n",
    "    sharey=False\n",
    ")\n",
    "plt.title('trend component of cpu io wait msec dataset')"
   ]
  },
  {
   "cell_type": "markdown",
   "id": "3915b0d0",
   "metadata": {},
   "source": [
    "resid component plot"
   ]
  },
  {
   "cell_type": "code",
   "execution_count": null,
   "id": "20bb6add",
   "metadata": {},
   "outputs": [],
   "source": [
    "resid_df.plot(\n",
    "    subplots=True,\n",
    "    layout=(5,2),\n",
    "    figsize=(17,10),\n",
    "    sharex=True,\n",
    "    sharey=False\n",
    ")\n",
    "plt.title('residual component of cpu io wait msec dataset')"
   ]
  },
  {
   "cell_type": "markdown",
   "id": "f43eefc6",
   "metadata": {},
   "source": [
    "# mixed plots per df in trend, seasonal and residual"
   ]
  },
  {
   "cell_type": "code",
   "execution_count": null,
   "id": "1b1bb2d3",
   "metadata": {},
   "outputs": [],
   "source": [
    "trend_df.plot()\n",
    "plt.title('trend of the feature in the dataset')\n",
    "\n",
    "seasonal_df.plot()\n",
    "plt.title('seasonal of the feature in the dataset')\n",
    "\n",
    "resid_df.plot()\n",
    "plt.title('residual of the feature in the dataset')"
   ]
  },
  {
   "cell_type": "markdown",
   "id": "81a5a1eb",
   "metadata": {},
   "source": [
    "# Cluster heatmap"
   ]
  },
  {
   "cell_type": "code",
   "execution_count": null,
   "id": "fef6eb34",
   "metadata": {},
   "outputs": [],
   "source": [
    "colonne_da_eliminare = ['cpu 8', 'cpu 9']\n",
    "trend_df_clean = trend_df.drop(columns=colonne_da_eliminare)\n",
    "\n",
    "trend_corr = trend_df_clean.dropna().corr(method='pearson')\n",
    "\n",
    "# Customize the clustermap of the seasonality_corr\n",
    "fig = sns.clustermap(trend_corr, annot=True, linewidth=0.5,figsize=(9,7))\n",
    "\n",
    "plt.setp(fig.ax_heatmap.yaxis.get_majorticklabels(), rotation=0)\n",
    "plt.setp(fig.ax_heatmap.xaxis.get_majorticklabels(), rotation=90)"
   ]
  },
  {
   "cell_type": "code",
   "execution_count": null,
   "id": "fa7cbcf9",
   "metadata": {},
   "outputs": [],
   "source": [
    "trend_corr_spearman = trend_df.corr(method='spearman')\n",
    "\n",
    "fig = sns.clustermap(trend_corr, annot=True, linewidth=0.4,figsize=(9,7))\n",
    "\n",
    "plt.setp(fig.ax_heatmap.yaxis.get_majorticklabels(), rotation=0)\n",
    "plt.setp(fig.ax_heatmap.xaxis.get_majorticklabels(), rotation=90)"
   ]
  }
 ],
 "metadata": {
  "kernelspec": {
   "display_name": ".venv",
   "language": "python",
   "name": "python3"
  },
  "language_info": {
   "codemirror_mode": {
    "name": "ipython",
    "version": 3
   },
   "file_extension": ".py",
   "mimetype": "text/x-python",
   "name": "python",
   "nbconvert_exporter": "python",
   "pygments_lexer": "ipython3",
   "version": "3.12.3"
  }
 },
 "nbformat": 4,
 "nbformat_minor": 5
}
