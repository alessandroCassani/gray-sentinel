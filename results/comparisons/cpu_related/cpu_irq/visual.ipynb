{
 "cells": [
  {
   "cell_type": "code",
   "execution_count": null,
   "id": "99e5168b",
   "metadata": {},
   "outputs": [],
   "source": [
    "import pandas as pd\n",
    "import matplotlib.pyplot as plt\n",
    "import seaborn as sns\n",
    "\n",
    "df1 = pd.read_csv(\"BASELINE.csv\")\n",
    "df2 = pd.read_csv(\"NET_LOSS.csv\")\n",
    "\n",
    "df1[\"source\"] = \"BASELINE\"\n",
    "df2[\"source\"] = \"NET LOSS\"\n",
    "\n",
    "df1[\"Time\"] = pd.to_datetime(df1[\"Time\"])\n",
    "df2[\"Time\"] = pd.to_datetime(df2[\"Time\"])\n",
    "\n",
    "offset = df1[\"Time\"].min() - df2[\"Time\"].min()\n",
    "df2[\"Time\"] = df2[\"Time\"] + offset\n",
    "\n",
    "df1[\"Time\"] = (df1[\"Time\"] - df1[\"Time\"].min()).dt.total_seconds() / 60\n",
    "df2[\"Time\"] = (df2[\"Time\"] - df2[\"Time\"].min()).dt.total_seconds() / 60\n",
    "\n",
    "delay1 = 600 / 60  \n",
    "delay2 = 1800 / 60 \n",
    "duration = 600 / 60 "
   ]
  },
  {
   "cell_type": "code",
   "execution_count": null,
   "id": "a937a3a1",
   "metadata": {},
   "outputs": [],
   "source": [
    "columns = [\"cpu 0\",\"cpu 1\",\"cpu 2\",\"cpu 3\",\"cpu 4\",\"cpu 5\",\"cpu 6\",\"cpu 7\",\"cpu 8\",\"cpu 9\"] \n",
    "\n",
    "for column in columns:\n",
    "    plt.figure(figsize=(7, 4))\n",
    "    \n",
    "    plt.plot(df1[\"Time\"], df1[column], label=f\"BASELINE - {column}\", linewidth=2)\n",
    "    plt.plot(df2[\"Time\"], df2[column], label=f\"NET LOSS - {column}\", linewidth=2, linestyle='--')\n",
    "    \n",
    "    plt.axvspan(delay1, delay1 + duration, color='red', alpha=0.2, label=\"1st Chaos Injection\")\n",
    "    plt.axvspan(delay2, delay2 + duration, color='orange', alpha=0.2, label=\"2nd Chaos Injection\")\n",
    "    \n",
    "    plt.xlabel(\"Minutes\")\n",
    "    plt.ylabel(column)  \n",
    "    plt.title(f\"Comparison Line Plot for {column}\")\n",
    "    plt.xlim(0, 60)\n",
    "    plt.legend()\n",
    "    plt.grid(True)\n",
    "    plt.tight_layout()\n",
    "    plt.show()\n"
   ]
  },
  {
   "cell_type": "code",
   "execution_count": null,
   "id": "27576bd0",
   "metadata": {},
   "outputs": [],
   "source": [
    "df1[\"source\"] = \"BASELINE\"\n",
    "df2[\"source\"] = \"NET LOSS\"\n",
    "combined = pd.concat([df1, df2])\n",
    "\n",
    "numeric_columns = [column for column in combined.columns if column != \"Time\" and column != \"source\"]\n",
    "\n",
    "n_cols = 3  \n",
    "n_rows = (len(numeric_columns) + n_cols - 1) // n_cols \n",
    "\n",
    "fig, axes = plt.subplots(n_rows, n_cols, figsize=(15, 5 * n_rows))\n",
    "\n",
    "axes = axes.flatten()\n",
    "\n",
    "for i, column in enumerate(numeric_columns):\n",
    "    sns.boxplot(x=\"source\", y=column, data=combined, ax=axes[i])\n",
    "    axes[i].set_title(f\"Box Plot: {column}\")\n",
    "    axes[i].grid(True)\n",
    "\n",
    "plt.tight_layout()\n",
    "plt.show()\n"
   ]
  },
  {
   "cell_type": "code",
   "execution_count": null,
   "id": "a42f3bac",
   "metadata": {},
   "outputs": [],
   "source": [
    "plt.figure(figsize=(5, 4))\n",
    "\n",
    "numeric_columns = [column for column in combined.columns if column != \"Time\" and column != \"source\"]\n",
    "for col in numeric_columns: \n",
    "    plt.hist(df1[col], bins=30, alpha=0.6, label=\"BASELINE\")\n",
    "    plt.hist(df2[col], bins=30, alpha=0.6, label=\"NET LOSS\")\n",
    "    plt.xlabel(col)  \n",
    "    plt.ylabel(\"Frequenza\")\n",
    "    plt.title(f\"Distribution comparison: {col}\")  # Usa il nome della colonna nel titolo\n",
    "    plt.legend()\n",
    "    plt.grid(True)\n",
    "    plt.tight_layout()\n",
    "    plt.show()"
   ]
  },
  {
   "cell_type": "code",
   "execution_count": null,
   "id": "8c2e4fb8",
   "metadata": {},
   "outputs": [],
   "source": [
    "df_cpus1 = df1.drop(columns='Time')\n",
    "df_cpus2 = df2.drop(columns='Time')\n",
    "\n",
    "df_cpus1.plot.area(stacked=True, figsize=(10, 6), alpha=0.7)\n",
    "df_cpus2.plot.area(stacked=True, figsize=(10, 6), alpha=0.7)\n",
    "\n",
    "plt.title('Utilizzo cumulativo delle CPU nel tempo')\n",
    "plt.xlabel('Time')\n",
    "plt.ylabel('CPU Usage')\n",
    "plt.legend(loc='upper left', ncol=5)\n",
    "plt.tight_layout()\n",
    "plt.show()"
   ]
  }
 ],
 "metadata": {
  "kernelspec": {
   "display_name": ".venv",
   "language": "python",
   "name": "python3"
  },
  "language_info": {
   "codemirror_mode": {
    "name": "ipython",
    "version": 3
   },
   "file_extension": ".py",
   "mimetype": "text/x-python",
   "name": "python",
   "nbconvert_exporter": "python",
   "pygments_lexer": "ipython3",
   "version": "3.12.3"
  }
 },
 "nbformat": 4,
 "nbformat_minor": 5
}
